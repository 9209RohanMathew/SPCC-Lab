{
 "cells": [
  {
   "cell_type": "code",
   "execution_count": 1,
   "id": "f5f1c0f7",
   "metadata": {},
   "outputs": [
    {
     "ename": "IndentationError",
     "evalue": "expected an indented block (Temp/ipykernel_13436/1269697821.py, line 11)",
     "output_type": "error",
     "traceback": [
      "\u001b[1;36m  File \u001b[1;32m\"C:\\Users\\User\\AppData\\Local\\Temp/ipykernel_13436/1269697821.py\"\u001b[1;36m, line \u001b[1;32m11\u001b[0m\n\u001b[1;33m    for index in range(len(registers)):\u001b[0m\n\u001b[1;37m    ^\u001b[0m\n\u001b[1;31mIndentationError\u001b[0m\u001b[1;31m:\u001b[0m expected an indented block\n"
     ]
    }
   ],
   "source": [
    "registers =[] \n",
    "result = []\n",
    "arg1 = []\n",
    "arg2 = [] \n",
    "op= []\n",
    "def get_instr(operator):\n",
    "    if operator == \"+\":\n",
    "        return \"ADD\"\n",
    "    return \"SUB\"\n",
    "def find_reg(operand):\n",
    "    for index in range(len(registers)):\n",
    "    if registers[index] == operand:\n",
    "        return index\n",
    "    return -1\n",
    "def gen_register():\n",
    "    return len(registers)\n",
    "code = \"\"\n",
    "line_count = 0\n",
    "with open(\"input.txt\", \"r\") as file:\n",
    "    for line in file:\n",
    "    line = line.rstrip().split(\" \")\n",
    "    result.append(line[0])\n",
    "    arg1.append(line[2]) \n",
    "    if len(line) > 3:\n",
    "        op.append(line[3])\n",
    "        arg2.append(line[4])\n",
    "    else:\n",
    "        op.append(None)\n",
    "        arg2.append(None) \n",
    "        line_count += 1\n",
    "for i in range(line_count):\n",
    "if op[i]:\n",
    "temp1 = find_reg(arg1[i])\n",
    "temp2 = find_reg(arg2[i])\n",
    "tempReg = 0\n",
    "if temp1 == -1 and temp2 == -1: # registers containing that operand does not exist\n",
    "tempReg = gen_register() # generate new register code += f\"MOV {arg1[i]},\n",
    "R{tempReg}\\n\" code += f\"{get_instr(op[i])} {arg2[i]}, R{tempReg}\\n\"\n",
    "registers.append(result[i])\n",
    "elif not temp1 == -1 and not temp2 == -1: # registers containing that operand exist\n",
    "code += f\"{get_instr(op[i])} R{temp1}, R{temp2}\\n\" registers[temp2] =\n",
    "result[i]\n",
    "else:\n",
    "temp1 = find_reg(arg1[i])\n",
    "if not temp1 == -1: # registers containing that operand exist\n",
    "code += f\"MOV R{temp1}, {result[i]}\\n\" else:\n",
    "tempReg = gen_register() code += f\"MOV\n",
    "{arg1[i]}, R{tempReg}\\n\" code +=\n",
    "f\"MOV R{tempReg}, {result[i]}\"\n",
    "print(code)"
   ]
  },
  {
   "cell_type": "code",
   "execution_count": null,
   "id": "7277e5ee",
   "metadata": {},
   "outputs": [],
   "source": []
  }
 ],
 "metadata": {
  "kernelspec": {
   "display_name": "Python 3 (ipykernel)",
   "language": "python",
   "name": "python3"
  },
  "language_info": {
   "codemirror_mode": {
    "name": "ipython",
    "version": 3
   },
   "file_extension": ".py",
   "mimetype": "text/x-python",
   "name": "python",
   "nbconvert_exporter": "python",
   "pygments_lexer": "ipython3",
   "version": "3.9.7"
  }
 },
 "nbformat": 4,
 "nbformat_minor": 5
}
